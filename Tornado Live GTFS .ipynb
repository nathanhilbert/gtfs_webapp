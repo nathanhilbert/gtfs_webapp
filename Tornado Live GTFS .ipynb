{
 "cells": [
  {
   "cell_type": "code",
   "execution_count": 1,
   "metadata": {
    "collapsed": false
   },
   "outputs": [
    {
     "name": "stdout",
     "output_type": "stream",
     "text": [
      "Listening on 0.0.0.0:9999\n"
     ]
    },
    {
     "ename": "RuntimeError",
     "evalue": "IOLoop is already running",
     "output_type": "error",
     "traceback": [
      "\u001b[1;31m---------------------------------------------------------------------------\u001b[0m",
      "\u001b[1;31mRuntimeError\u001b[0m                              Traceback (most recent call last)",
      "\u001b[1;32m<ipython-input-1-8ceeb9c4453a>\u001b[0m in \u001b[0;36m<module>\u001b[1;34m()\u001b[0m\n\u001b[0;32m    107\u001b[0m     \u001b[1;32mprint\u001b[0m \u001b[1;34m'Listening on 0.0.0.0:9999'\u001b[0m\u001b[1;33m\u001b[0m\u001b[0m\n\u001b[0;32m    108\u001b[0m \u001b[1;33m\u001b[0m\u001b[0m\n\u001b[1;32m--> 109\u001b[1;33m     \u001b[0mtornado\u001b[0m\u001b[1;33m.\u001b[0m\u001b[0mioloop\u001b[0m\u001b[1;33m.\u001b[0m\u001b[0mIOLoop\u001b[0m\u001b[1;33m.\u001b[0m\u001b[0minstance\u001b[0m\u001b[1;33m(\u001b[0m\u001b[1;33m)\u001b[0m\u001b[1;33m.\u001b[0m\u001b[0mstart\u001b[0m\u001b[1;33m(\u001b[0m\u001b[1;33m)\u001b[0m\u001b[1;33m\u001b[0m\u001b[0m\n\u001b[0m",
      "\u001b[1;32mC:\\Python27\\ArcGISx6410.3\\lib\\site-packages\\zmq\\eventloop\\ioloop.pyc\u001b[0m in \u001b[0;36mstart\u001b[1;34m(self)\u001b[0m\n\u001b[0;32m    160\u001b[0m     \u001b[1;32mdef\u001b[0m \u001b[0mstart\u001b[0m\u001b[1;33m(\u001b[0m\u001b[0mself\u001b[0m\u001b[1;33m)\u001b[0m\u001b[1;33m:\u001b[0m\u001b[1;33m\u001b[0m\u001b[0m\n\u001b[0;32m    161\u001b[0m         \u001b[1;32mtry\u001b[0m\u001b[1;33m:\u001b[0m\u001b[1;33m\u001b[0m\u001b[0m\n\u001b[1;32m--> 162\u001b[1;33m             \u001b[0msuper\u001b[0m\u001b[1;33m(\u001b[0m\u001b[0mZMQIOLoop\u001b[0m\u001b[1;33m,\u001b[0m \u001b[0mself\u001b[0m\u001b[1;33m)\u001b[0m\u001b[1;33m.\u001b[0m\u001b[0mstart\u001b[0m\u001b[1;33m(\u001b[0m\u001b[1;33m)\u001b[0m\u001b[1;33m\u001b[0m\u001b[0m\n\u001b[0m\u001b[0;32m    163\u001b[0m         \u001b[1;32mexcept\u001b[0m \u001b[0mZMQError\u001b[0m \u001b[1;32mas\u001b[0m \u001b[0me\u001b[0m\u001b[1;33m:\u001b[0m\u001b[1;33m\u001b[0m\u001b[0m\n\u001b[0;32m    164\u001b[0m             \u001b[1;32mif\u001b[0m \u001b[0me\u001b[0m\u001b[1;33m.\u001b[0m\u001b[0merrno\u001b[0m \u001b[1;33m==\u001b[0m \u001b[0mETERM\u001b[0m\u001b[1;33m:\u001b[0m\u001b[1;33m\u001b[0m\u001b[0m\n",
      "\u001b[1;32mC:\\Python27\\ArcGISx6410.3\\lib\\site-packages\\tornado\\ioloop.pyc\u001b[0m in \u001b[0;36mstart\u001b[1;34m(self)\u001b[0m\n\u001b[0;32m    746\u001b[0m     \u001b[1;32mdef\u001b[0m \u001b[0mstart\u001b[0m\u001b[1;33m(\u001b[0m\u001b[0mself\u001b[0m\u001b[1;33m)\u001b[0m\u001b[1;33m:\u001b[0m\u001b[1;33m\u001b[0m\u001b[0m\n\u001b[0;32m    747\u001b[0m         \u001b[1;32mif\u001b[0m \u001b[0mself\u001b[0m\u001b[1;33m.\u001b[0m\u001b[0m_running\u001b[0m\u001b[1;33m:\u001b[0m\u001b[1;33m\u001b[0m\u001b[0m\n\u001b[1;32m--> 748\u001b[1;33m             \u001b[1;32mraise\u001b[0m \u001b[0mRuntimeError\u001b[0m\u001b[1;33m(\u001b[0m\u001b[1;34m\"IOLoop is already running\"\u001b[0m\u001b[1;33m)\u001b[0m\u001b[1;33m\u001b[0m\u001b[0m\n\u001b[0m\u001b[0;32m    749\u001b[0m         \u001b[0mself\u001b[0m\u001b[1;33m.\u001b[0m\u001b[0m_setup_logging\u001b[0m\u001b[1;33m(\u001b[0m\u001b[1;33m)\u001b[0m\u001b[1;33m\u001b[0m\u001b[0m\n\u001b[0;32m    750\u001b[0m         \u001b[1;32mif\u001b[0m \u001b[0mself\u001b[0m\u001b[1;33m.\u001b[0m\u001b[0m_stopped\u001b[0m\u001b[1;33m:\u001b[0m\u001b[1;33m\u001b[0m\u001b[0m\n",
      "\u001b[1;31mRuntimeError\u001b[0m: IOLoop is already running"
     ]
    },
    {
     "name": "stderr",
     "output_type": "stream",
     "text": [
      "INFO:tornado.access:200 GET /statsconn/info (::1) 1.00ms\n"
     ]
    },
    {
     "name": "stdout",
     "output_type": "stream",
     "text": [
      "refreshing\n",
      "refreshing\n",
      "refreshing\n",
      "refreshing\n",
      "refreshing\n",
      "refreshing\n",
      "refreshing\n",
      "refreshing\n",
      "refreshing\n",
      "refreshing\n",
      "refreshing\n",
      "refreshing\n",
      "refreshing\n",
      "refreshing\n",
      "refreshing\n",
      "refreshing"
     ]
    }
   ],
   "source": [
    "import tornado.ioloop\n",
    "import tornado.web\n",
    "import tornado.concurrent\n",
    "\n",
    "from time import time\n",
    "\n",
    "from sockjs.tornado import SockJSConnection, SockJSRouter, proto\n",
    "\n",
    "from google.transit import gtfs_realtime_pb2\n",
    "import urllib\n",
    "\n",
    "\n",
    "\n",
    "class IndexHandler(tornado.web.RequestHandler):\n",
    "    \"\"\"Regular HTTP handler to serve the ping page\"\"\"\n",
    "    def get(self):\n",
    "        self.render('index.html')\n",
    "        \n",
    "\n",
    "\n",
    "\n",
    "# # Out broadcast connection\n",
    "# class BroadcastConnection(SockJSConnection):\n",
    "#     clients = set()\n",
    "\n",
    "#     def on_open(self, info):\n",
    "#         self.clients.add(self)\n",
    "\n",
    "#     def on_message(self, msg):\n",
    "#         self.broadcast(self.clients, msg)\n",
    "\n",
    "#     def on_close(self):\n",
    "#         self.clients.remove(self)\n",
    "\n",
    "# BroadcastRouter = SockJSRouter(BroadcastConnection, '/broadcast')\n",
    "\n",
    "\n",
    "# Stats class\n",
    "class StatsConnection(SockJSConnection):\n",
    "    \n",
    "    clients = set()\n",
    "    \n",
    "    last_update = time()\n",
    "    \n",
    "    gisdata = {}\n",
    "    \n",
    "    buses = 0\n",
    "    \n",
    "    def on_open(self, info):\n",
    "        self.clients.add(self)\n",
    "        self.loop = tornado.ioloop.PeriodicCallback(self._send_stats, 3000)\n",
    "        self.loop.start()\n",
    "\n",
    "    def on_message(self):\n",
    "        pass\n",
    "\n",
    "    def on_close(self):\n",
    "        self.clients.remove(self)\n",
    "        self.loop.stop()\n",
    "\n",
    "    def refresh(self):\n",
    "        print \"refreshing\"\n",
    "        feed = gtfs_realtime_pb2.FeedMessage()\n",
    "        response = urllib.urlopen('https://data.texas.gov/api/file_data/cxEUVbzwHvy6_WDMKITWyEe9fT8QQxXMKu2YwJBTKTs?filename=VehLoc.pb')\n",
    "        feed.ParseFromString(response.read())\n",
    "        counter= 0\n",
    "        geobase = { \"type\": \"FeatureCollection\",\n",
    "                        \"features\": []\n",
    "                         }\n",
    "        for entity in feed.entity:\n",
    "          if entity.HasField('vehicle'):\n",
    "            featurebase = { \n",
    "                \"type\": \"Feature\",\n",
    "                \"geometry\": {\"type\": \"Point\", \"coordinates\": [float(entity.vehicle.position.longitude), \n",
    "                                                              float(entity.vehicle.position.latitude)]},\n",
    "                \"properties\": {\"id\": entity.vehicle.vehicle.id}\n",
    "            }\n",
    "            geobase['features'].append(featurebase)\n",
    "            counter +=1\n",
    "        self.buses = counter\n",
    "        self.gisdata = geobase\n",
    "        \n",
    "\n",
    "    def _send_stats(self):\n",
    "        #update every 5 seconds\n",
    "        #print \"here is the last update\", self.last_update, \"current\", time(), \"and diff\", time()-self.last_update\n",
    "        if time()-self.last_update > 3:\n",
    "            self.refresh()\n",
    "        data = proto.json_encode({\"cusnum\":len(self.clients),\n",
    "                                  \"busnum\":self.buses,\n",
    "                                 \"geodata\":self.gisdata})\n",
    "        self.send(data)\n",
    "\n",
    "StatsRouter = SockJSRouter(StatsConnection, '/statsconn')\n",
    "\n",
    "if __name__ == \"__main__\":\n",
    "    import logging\n",
    "    logging.getLogger().setLevel(logging.DEBUG)\n",
    "\n",
    "    # Create application\n",
    "    app = tornado.web.Application(\n",
    "            [(r\"/\", IndexHandler)] +\n",
    "            StatsRouter.urls\n",
    "    )\n",
    "    app.listen(9999)\n",
    "\n",
    "    print 'Listening on 0.0.0.0:9999'\n",
    "\n",
    "    tornado.ioloop.IOLoop.instance().start()"
   ]
  },
  {
   "cell_type": "code",
   "execution_count": null,
   "metadata": {
    "collapsed": true
   },
   "outputs": [],
   "source": []
  }
 ],
 "metadata": {
  "kernelspec": {
   "display_name": "Python 2",
   "language": "python",
   "name": "python2"
  },
  "language_info": {
   "codemirror_mode": {
    "name": "ipython",
    "version": 2
   },
   "file_extension": ".py",
   "mimetype": "text/x-python",
   "name": "python",
   "nbconvert_exporter": "python",
   "pygments_lexer": "ipython2",
   "version": "2.7.8"
  }
 },
 "nbformat": 4,
 "nbformat_minor": 0
}
